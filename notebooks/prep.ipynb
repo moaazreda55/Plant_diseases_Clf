{
 "cells": [
  {
   "cell_type": "code",
   "execution_count": 3,
   "id": "a4aea267",
   "metadata": {},
   "outputs": [
    {
     "name": "stdout",
     "output_type": "stream",
     "text": [
      "d:\\project\\Plant_diseases_Clf\n"
     ]
    }
   ],
   "source": [
    "%cd .."
   ]
  },
  {
   "cell_type": "code",
   "execution_count": 2,
   "id": "09b98fc8",
   "metadata": {},
   "outputs": [
    {
     "data": {
      "text/plain": [
       "'d:\\\\project\\\\Plant_diseases_Clf\\\\notebooks'"
      ]
     },
     "execution_count": 2,
     "metadata": {},
     "output_type": "execute_result"
    }
   ],
   "source": [
    "pwd"
   ]
  },
  {
   "cell_type": "code",
   "execution_count": 13,
   "id": "1f25c456",
   "metadata": {},
   "outputs": [
    {
     "name": "stdout",
     "output_type": "stream",
     "text": [
      "Collecting seaborn\n",
      "  Downloading seaborn-0.13.2-py3-none-any.whl.metadata (5.4 kB)\n",
      "Requirement already satisfied: numpy!=1.24.0,>=1.20 in c:\\users\\moaaz reda\\appdata\\local\\programs\\python\\python311\\lib\\site-packages (from seaborn) (2.3.1)\n",
      "Requirement already satisfied: pandas>=1.2 in c:\\users\\moaaz reda\\appdata\\local\\programs\\python\\python311\\lib\\site-packages (from seaborn) (2.3.0)\n",
      "Collecting matplotlib!=3.6.1,>=3.4 (from seaborn)\n",
      "  Using cached matplotlib-3.10.3-cp311-cp311-win_amd64.whl.metadata (11 kB)\n",
      "Collecting contourpy>=1.0.1 (from matplotlib!=3.6.1,>=3.4->seaborn)\n",
      "  Using cached contourpy-1.3.2-cp311-cp311-win_amd64.whl.metadata (5.5 kB)\n",
      "Collecting cycler>=0.10 (from matplotlib!=3.6.1,>=3.4->seaborn)\n",
      "  Using cached cycler-0.12.1-py3-none-any.whl.metadata (3.8 kB)\n",
      "Collecting fonttools>=4.22.0 (from matplotlib!=3.6.1,>=3.4->seaborn)\n",
      "  Downloading fonttools-4.58.5-cp311-cp311-win_amd64.whl.metadata (109 kB)\n",
      "     ---------------------------------------- 0.0/109.0 kB ? eta -:--:--\n",
      "     ---------------------------------------- 0.0/109.0 kB ? eta -:--:--\n",
      "     --- ------------------------------------ 10.2/109.0 kB ? eta -:--:--\n",
      "     --- ------------------------------------ 10.2/109.0 kB ? eta -:--:--\n",
      "     --- ------------------------------------ 10.2/109.0 kB ? eta -:--:--\n",
      "     ---------- -------------------------- 30.7/109.0 kB 187.9 kB/s eta 0:00:01\n",
      "     ------------- ----------------------- 41.0/109.0 kB 164.3 kB/s eta 0:00:01\n",
      "     ------------- ----------------------- 41.0/109.0 kB 164.3 kB/s eta 0:00:01\n",
      "     --------------------------- --------- 81.9/109.0 kB 269.5 kB/s eta 0:00:01\n",
      "     --------------------------------- -- 102.4/109.0 kB 295.4 kB/s eta 0:00:01\n",
      "     ------------------------------------ 109.0/109.0 kB 287.2 kB/s eta 0:00:00\n",
      "Collecting kiwisolver>=1.3.1 (from matplotlib!=3.6.1,>=3.4->seaborn)\n",
      "  Using cached kiwisolver-1.4.8-cp311-cp311-win_amd64.whl.metadata (6.3 kB)\n",
      "Requirement already satisfied: packaging>=20.0 in c:\\users\\moaaz reda\\appdata\\roaming\\python\\python311\\site-packages (from matplotlib!=3.6.1,>=3.4->seaborn) (25.0)\n",
      "Collecting pillow>=8 (from matplotlib!=3.6.1,>=3.4->seaborn)\n",
      "  Downloading pillow-11.3.0-cp311-cp311-win_amd64.whl.metadata (9.2 kB)\n",
      "Collecting pyparsing>=2.3.1 (from matplotlib!=3.6.1,>=3.4->seaborn)\n",
      "  Using cached pyparsing-3.2.3-py3-none-any.whl.metadata (5.0 kB)\n",
      "Requirement already satisfied: python-dateutil>=2.7 in c:\\users\\moaaz reda\\appdata\\roaming\\python\\python311\\site-packages (from matplotlib!=3.6.1,>=3.4->seaborn) (2.9.0.post0)\n",
      "Requirement already satisfied: pytz>=2020.1 in c:\\users\\moaaz reda\\appdata\\local\\programs\\python\\python311\\lib\\site-packages (from pandas>=1.2->seaborn) (2025.2)\n",
      "Requirement already satisfied: tzdata>=2022.7 in c:\\users\\moaaz reda\\appdata\\local\\programs\\python\\python311\\lib\\site-packages (from pandas>=1.2->seaborn) (2025.2)\n",
      "Requirement already satisfied: six>=1.5 in c:\\users\\moaaz reda\\appdata\\roaming\\python\\python311\\site-packages (from python-dateutil>=2.7->matplotlib!=3.6.1,>=3.4->seaborn) (1.17.0)\n",
      "Downloading seaborn-0.13.2-py3-none-any.whl (294 kB)\n",
      "   ---------------------------------------- 0.0/294.9 kB ? eta -:--:--\n",
      "   ----- --------------------------------- 41.0/294.9 kB 991.0 kB/s eta 0:00:01\n",
      "   ------------- -------------------------- 102.4/294.9 kB 1.2 MB/s eta 0:00:01\n",
      "   ----------------------- ---------------- 174.1/294.9 kB 1.3 MB/s eta 0:00:01\n",
      "   ------------------------------- -------- 235.5/294.9 kB 1.2 MB/s eta 0:00:01\n",
      "   -------------------------------------- - 286.7/294.9 kB 1.3 MB/s eta 0:00:01\n",
      "   ---------------------------------------- 294.9/294.9 kB 1.1 MB/s eta 0:00:00\n",
      "Using cached matplotlib-3.10.3-cp311-cp311-win_amd64.whl (8.1 MB)\n",
      "Using cached contourpy-1.3.2-cp311-cp311-win_amd64.whl (222 kB)\n",
      "Using cached cycler-0.12.1-py3-none-any.whl (8.3 kB)\n",
      "Downloading fonttools-4.58.5-cp311-cp311-win_amd64.whl (2.2 MB)\n",
      "   ---------------------------------------- 0.0/2.2 MB ? eta -:--:--\n",
      "    --------------------------------------- 0.0/2.2 MB 1.3 MB/s eta 0:00:02\n",
      "   -- ------------------------------------- 0.1/2.2 MB 1.4 MB/s eta 0:00:02\n",
      "   --- ------------------------------------ 0.2/2.2 MB 1.3 MB/s eta 0:00:02\n",
      "   ---- ----------------------------------- 0.3/2.2 MB 1.4 MB/s eta 0:00:02\n",
      "   ------ --------------------------------- 0.3/2.2 MB 1.4 MB/s eta 0:00:02\n",
      "   ------- -------------------------------- 0.4/2.2 MB 1.4 MB/s eta 0:00:02\n",
      "   -------- ------------------------------- 0.5/2.2 MB 1.4 MB/s eta 0:00:02\n",
      "   --------- ------------------------------ 0.5/2.2 MB 1.4 MB/s eta 0:00:02\n",
      "   ---------- ----------------------------- 0.6/2.2 MB 1.4 MB/s eta 0:00:02\n",
      "   ----------- ---------------------------- 0.7/2.2 MB 1.4 MB/s eta 0:00:02\n",
      "   ------------- -------------------------- 0.7/2.2 MB 1.4 MB/s eta 0:00:02\n",
      "   -------------- ------------------------- 0.8/2.2 MB 1.4 MB/s eta 0:00:02\n",
      "   --------------- ------------------------ 0.9/2.2 MB 1.4 MB/s eta 0:00:01\n",
      "   ---------------- ----------------------- 0.9/2.2 MB 1.4 MB/s eta 0:00:01\n",
      "   ------------------ --------------------- 1.0/2.2 MB 1.4 MB/s eta 0:00:01\n",
      "   ------------------- -------------------- 1.1/2.2 MB 1.4 MB/s eta 0:00:01\n",
      "   -------------------- ------------------- 1.2/2.2 MB 1.4 MB/s eta 0:00:01\n",
      "   --------------------- ------------------ 1.2/2.2 MB 1.4 MB/s eta 0:00:01\n",
      "   ---------------------- ----------------- 1.3/2.2 MB 1.4 MB/s eta 0:00:01\n",
      "   ----------------------- ---------------- 1.3/2.2 MB 1.4 MB/s eta 0:00:01\n",
      "   ------------------------ --------------- 1.4/2.2 MB 1.4 MB/s eta 0:00:01\n",
      "   ------------------------ --------------- 1.4/2.2 MB 1.3 MB/s eta 0:00:01\n",
      "   -------------------------- ------------- 1.5/2.2 MB 1.3 MB/s eta 0:00:01\n",
      "   -------------------------- ------------- 1.5/2.2 MB 1.3 MB/s eta 0:00:01\n",
      "   --------------------------- ------------ 1.5/2.2 MB 1.3 MB/s eta 0:00:01\n",
      "   --------------------------- ------------ 1.6/2.2 MB 1.3 MB/s eta 0:00:01\n",
      "   ---------------------------- ----------- 1.6/2.2 MB 1.2 MB/s eta 0:00:01\n",
      "   ---------------------------- ----------- 1.6/2.2 MB 1.2 MB/s eta 0:00:01\n",
      "   ---------------------------- ----------- 1.6/2.2 MB 1.2 MB/s eta 0:00:01\n",
      "   ---------------------------- ----------- 1.6/2.2 MB 1.2 MB/s eta 0:00:01\n",
      "   ---------------------------- ----------- 1.6/2.2 MB 1.2 MB/s eta 0:00:01\n",
      "   ---------------------------- ----------- 1.6/2.2 MB 1.2 MB/s eta 0:00:01\n",
      "   ---------------------------- ----------- 1.6/2.2 MB 1.2 MB/s eta 0:00:01\n",
      "   ---------------------------- ----------- 1.6/2.2 MB 1.2 MB/s eta 0:00:01\n",
      "   ---------------------------- ----------- 1.6/2.2 MB 1.2 MB/s eta 0:00:01\n",
      "   ----------------------------- ---------- 1.6/2.2 MB 962.1 kB/s eta 0:00:01\n",
      "   ------------------------------- -------- 1.8/2.2 MB 1.0 MB/s eta 0:00:01\n",
      "   ------------------------------------- -- 2.1/2.2 MB 1.2 MB/s eta 0:00:01\n",
      "   -------------------------------------- - 2.2/2.2 MB 1.2 MB/s eta 0:00:01\n",
      "   ---------------------------------------  2.2/2.2 MB 1.2 MB/s eta 0:00:01\n",
      "   ---------------------------------------  2.2/2.2 MB 1.2 MB/s eta 0:00:01\n",
      "   ---------------------------------------  2.2/2.2 MB 1.1 MB/s eta 0:00:01\n",
      "   ---------------------------------------- 2.2/2.2 MB 1.1 MB/s eta 0:00:00\n",
      "Using cached kiwisolver-1.4.8-cp311-cp311-win_amd64.whl (71 kB)\n",
      "Downloading pillow-11.3.0-cp311-cp311-win_amd64.whl (7.0 MB)\n",
      "   ---------------------------------------- 0.0/7.0 MB ? eta -:--:--\n",
      "   ---------------------------------------- 0.0/7.0 MB 1.3 MB/s eta 0:00:06\n",
      "    --------------------------------------- 0.1/7.0 MB 1.0 MB/s eta 0:00:07\n",
      "    --------------------------------------- 0.2/7.0 MB 1.0 MB/s eta 0:00:07\n",
      "   - -------------------------------------- 0.2/7.0 MB 1.1 MB/s eta 0:00:06\n",
      "   - -------------------------------------- 0.3/7.0 MB 1.2 MB/s eta 0:00:06\n",
      "   - -------------------------------------- 0.3/7.0 MB 1.2 MB/s eta 0:00:06\n",
      "   -- ------------------------------------- 0.4/7.0 MB 1.2 MB/s eta 0:00:06\n",
      "   -- ------------------------------------- 0.5/7.0 MB 1.3 MB/s eta 0:00:05\n",
      "   --- ------------------------------------ 0.5/7.0 MB 1.3 MB/s eta 0:00:06\n",
      "   --- ------------------------------------ 0.6/7.0 MB 1.3 MB/s eta 0:00:05\n",
      "   --- ------------------------------------ 0.7/7.0 MB 1.3 MB/s eta 0:00:05\n",
      "   ---- ----------------------------------- 0.7/7.0 MB 1.3 MB/s eta 0:00:05\n",
      "   ---- ----------------------------------- 0.8/7.0 MB 1.3 MB/s eta 0:00:05\n",
      "   ----- ---------------------------------- 0.9/7.0 MB 1.3 MB/s eta 0:00:05\n",
      "   ----- ---------------------------------- 1.0/7.0 MB 1.3 MB/s eta 0:00:05\n",
      "   ----- ---------------------------------- 1.0/7.0 MB 1.3 MB/s eta 0:00:05\n",
      "   ------ --------------------------------- 1.1/7.0 MB 1.3 MB/s eta 0:00:05\n",
      "   ------ --------------------------------- 1.2/7.0 MB 1.4 MB/s eta 0:00:05\n",
      "   ------- -------------------------------- 1.2/7.0 MB 1.3 MB/s eta 0:00:05\n",
      "   ------- -------------------------------- 1.3/7.0 MB 1.4 MB/s eta 0:00:05\n",
      "   ------- -------------------------------- 1.4/7.0 MB 1.3 MB/s eta 0:00:05\n",
      "   -------- ------------------------------- 1.4/7.0 MB 1.4 MB/s eta 0:00:05\n",
      "   -------- ------------------------------- 1.5/7.0 MB 1.3 MB/s eta 0:00:05\n",
      "   --------- ------------------------------ 1.6/7.0 MB 1.4 MB/s eta 0:00:04\n",
      "   --------- ------------------------------ 1.6/7.0 MB 1.4 MB/s eta 0:00:04\n",
      "   --------- ------------------------------ 1.7/7.0 MB 1.3 MB/s eta 0:00:04\n",
      "   ---------- ----------------------------- 1.8/7.0 MB 1.3 MB/s eta 0:00:04\n",
      "   ---------- ----------------------------- 1.9/7.0 MB 1.4 MB/s eta 0:00:04\n",
      "   ----------- ---------------------------- 1.9/7.0 MB 1.4 MB/s eta 0:00:04\n",
      "   ----------- ---------------------------- 2.0/7.0 MB 1.4 MB/s eta 0:00:04\n",
      "   ----------- ---------------------------- 2.1/7.0 MB 1.4 MB/s eta 0:00:04\n",
      "   ------------ --------------------------- 2.1/7.0 MB 1.4 MB/s eta 0:00:04\n",
      "   ------------ --------------------------- 2.2/7.0 MB 1.4 MB/s eta 0:00:04\n",
      "   ------------- -------------------------- 2.3/7.0 MB 1.4 MB/s eta 0:00:04\n",
      "   ------------- -------------------------- 2.4/7.0 MB 1.4 MB/s eta 0:00:04\n",
      "   ------------- -------------------------- 2.4/7.0 MB 1.4 MB/s eta 0:00:04\n",
      "   -------------- ------------------------- 2.5/7.0 MB 1.4 MB/s eta 0:00:04\n",
      "   -------------- ------------------------- 2.6/7.0 MB 1.4 MB/s eta 0:00:04\n",
      "   -------------- ------------------------- 2.6/7.0 MB 1.4 MB/s eta 0:00:04\n",
      "   --------------- ------------------------ 2.7/7.0 MB 1.4 MB/s eta 0:00:04\n",
      "   --------------- ------------------------ 2.8/7.0 MB 1.4 MB/s eta 0:00:04\n",
      "   ---------------- ----------------------- 2.8/7.0 MB 1.4 MB/s eta 0:00:04\n",
      "   ---------------- ----------------------- 2.9/7.0 MB 1.4 MB/s eta 0:00:03\n",
      "   ----------------- ---------------------- 3.0/7.0 MB 1.4 MB/s eta 0:00:03\n",
      "   ----------------- ---------------------- 3.1/7.0 MB 1.4 MB/s eta 0:00:03\n",
      "   ----------------- ---------------------- 3.1/7.0 MB 1.4 MB/s eta 0:00:03\n",
      "   ------------------ --------------------- 3.2/7.0 MB 1.4 MB/s eta 0:00:03\n",
      "   ------------------ --------------------- 3.3/7.0 MB 1.4 MB/s eta 0:00:03\n",
      "   ------------------- -------------------- 3.4/7.0 MB 1.4 MB/s eta 0:00:03\n",
      "   ------------------- -------------------- 3.5/7.0 MB 1.4 MB/s eta 0:00:03\n",
      "   -------------------- ------------------- 3.5/7.0 MB 1.4 MB/s eta 0:00:03\n",
      "   -------------------- ------------------- 3.6/7.0 MB 1.4 MB/s eta 0:00:03\n",
      "   --------------------- ------------------ 3.7/7.0 MB 1.4 MB/s eta 0:00:03\n",
      "   --------------------- ------------------ 3.8/7.0 MB 1.4 MB/s eta 0:00:03\n",
      "   --------------------- ------------------ 3.8/7.0 MB 1.4 MB/s eta 0:00:03\n",
      "   ---------------------- ----------------- 3.9/7.0 MB 1.4 MB/s eta 0:00:03\n",
      "   ---------------------- ----------------- 4.0/7.0 MB 1.4 MB/s eta 0:00:03\n",
      "   ----------------------- ---------------- 4.0/7.0 MB 1.4 MB/s eta 0:00:03\n",
      "   ----------------------- ---------------- 4.1/7.0 MB 1.4 MB/s eta 0:00:03\n",
      "   ----------------------- ---------------- 4.2/7.0 MB 1.4 MB/s eta 0:00:03\n",
      "   ------------------------ --------------- 4.2/7.0 MB 1.4 MB/s eta 0:00:02\n",
      "   ------------------------ --------------- 4.3/7.0 MB 1.4 MB/s eta 0:00:02\n",
      "   ------------------------ --------------- 4.4/7.0 MB 1.4 MB/s eta 0:00:02\n",
      "   ------------------------- -------------- 4.4/7.0 MB 1.4 MB/s eta 0:00:02\n",
      "   ------------------------- -------------- 4.5/7.0 MB 1.4 MB/s eta 0:00:02\n",
      "   ------------------------- -------------- 4.5/7.0 MB 1.4 MB/s eta 0:00:02\n",
      "   ------------------------- -------------- 4.5/7.0 MB 1.3 MB/s eta 0:00:02\n",
      "   -------------------------- ------------- 4.6/7.0 MB 1.3 MB/s eta 0:00:02\n",
      "   -------------------------- ------------- 4.6/7.0 MB 1.3 MB/s eta 0:00:02\n",
      "   -------------------------- ------------- 4.7/7.0 MB 1.3 MB/s eta 0:00:02\n",
      "   --------------------------- ------------ 4.8/7.0 MB 1.3 MB/s eta 0:00:02\n",
      "   --------------------------- ------------ 4.8/7.0 MB 1.4 MB/s eta 0:00:02\n",
      "   ---------------------------- ----------- 4.9/7.0 MB 1.4 MB/s eta 0:00:02\n",
      "   ---------------------------- ----------- 5.0/7.0 MB 1.4 MB/s eta 0:00:02\n",
      "   ----------------------------- ---------- 5.1/7.0 MB 1.4 MB/s eta 0:00:02\n",
      "   ----------------------------- ---------- 5.1/7.0 MB 1.4 MB/s eta 0:00:02\n",
      "   ----------------------------- ---------- 5.2/7.0 MB 1.4 MB/s eta 0:00:02\n",
      "   ------------------------------ --------- 5.3/7.0 MB 1.4 MB/s eta 0:00:02\n",
      "   ------------------------------ --------- 5.3/7.0 MB 1.4 MB/s eta 0:00:02\n",
      "   ------------------------------- -------- 5.4/7.0 MB 1.4 MB/s eta 0:00:02\n",
      "   ------------------------------- -------- 5.5/7.0 MB 1.4 MB/s eta 0:00:02\n",
      "   ------------------------------- -------- 5.5/7.0 MB 1.4 MB/s eta 0:00:02\n",
      "   -------------------------------- ------- 5.6/7.0 MB 1.4 MB/s eta 0:00:02\n",
      "   -------------------------------- ------- 5.7/7.0 MB 1.4 MB/s eta 0:00:01\n",
      "   -------------------------------- ------- 5.7/7.0 MB 1.4 MB/s eta 0:00:01\n",
      "   --------------------------------- ------ 5.8/7.0 MB 1.4 MB/s eta 0:00:01\n",
      "   --------------------------------- ------ 5.9/7.0 MB 1.4 MB/s eta 0:00:01\n",
      "   ---------------------------------- ----- 6.0/7.0 MB 1.4 MB/s eta 0:00:01\n",
      "   ---------------------------------- ----- 6.1/7.0 MB 1.4 MB/s eta 0:00:01\n",
      "   ----------------------------------- ---- 6.2/7.0 MB 1.4 MB/s eta 0:00:01\n",
      "   ----------------------------------- ---- 6.3/7.0 MB 1.4 MB/s eta 0:00:01\n",
      "   ------------------------------------ --- 6.4/7.0 MB 1.4 MB/s eta 0:00:01\n",
      "   ------------------------------------ --- 6.4/7.0 MB 1.4 MB/s eta 0:00:01\n",
      "   ------------------------------------- -- 6.5/7.0 MB 1.4 MB/s eta 0:00:01\n",
      "   ------------------------------------- -- 6.6/7.0 MB 1.4 MB/s eta 0:00:01\n",
      "   -------------------------------------- - 6.7/7.0 MB 1.4 MB/s eta 0:00:01\n",
      "   -------------------------------------- - 6.8/7.0 MB 1.4 MB/s eta 0:00:01\n",
      "   ---------------------------------------  6.9/7.0 MB 1.4 MB/s eta 0:00:01\n",
      "   ---------------------------------------  6.9/7.0 MB 1.4 MB/s eta 0:00:01\n",
      "   ---------------------------------------  6.9/7.0 MB 1.3 MB/s eta 0:00:01\n",
      "   ---------------------------------------  6.9/7.0 MB 1.3 MB/s eta 0:00:01\n",
      "   ---------------------------------------  7.0/7.0 MB 1.3 MB/s eta 0:00:01\n",
      "   ---------------------------------------  7.0/7.0 MB 1.3 MB/s eta 0:00:01\n",
      "   ---------------------------------------- 7.0/7.0 MB 1.3 MB/s eta 0:00:00\n",
      "Using cached pyparsing-3.2.3-py3-none-any.whl (111 kB)\n",
      "Installing collected packages: pyparsing, pillow, kiwisolver, fonttools, cycler, contourpy, matplotlib, seaborn\n",
      "Successfully installed contourpy-1.3.2 cycler-0.12.1 fonttools-4.58.5 kiwisolver-1.4.8 matplotlib-3.10.3 pillow-11.3.0 pyparsing-3.2.3 seaborn-0.13.2\n",
      "Note: you may need to restart the kernel to use updated packages.\n"
     ]
    },
    {
     "name": "stderr",
     "output_type": "stream",
     "text": [
      "\n",
      "[notice] A new release of pip is available: 24.0 -> 25.1.1\n",
      "[notice] To update, run: python.exe -m pip install --upgrade pip\n"
     ]
    }
   ],
   "source": [
    "pip install seaborn"
   ]
  },
  {
   "cell_type": "code",
   "execution_count": 10,
   "id": "dc666bd6",
   "metadata": {},
   "outputs": [],
   "source": [
    "import pandas as pd"
   ]
  },
  {
   "cell_type": "code",
   "execution_count": 5,
   "id": "ef975d31",
   "metadata": {},
   "outputs": [
    {
     "data": {
      "text/plain": [
       "['Healthy', 'Powdery', 'Rust']"
      ]
     },
     "execution_count": 5,
     "metadata": {},
     "output_type": "execute_result"
    }
   ],
   "source": [
    "import os \n",
    "\n",
    "dir=r\"dataset\\datasets\\rashikrahmanpritom\\plant-disease-recognition-dataset\\versions\\1\\Train\\Train\"\n",
    "os.listdir(dir)"
   ]
  },
  {
   "cell_type": "code",
   "execution_count": 6,
   "id": "bf8a16a8",
   "metadata": {},
   "outputs": [],
   "source": [
    "classes=os.listdir(dir)\n",
    "\n",
    "all_img_path=[]\n",
    "all_img_clas=[]\n",
    "for clas in classes :\n",
    "\n",
    "    full_path = dir + \"\\\\\" + clas\n",
    "    img_names = os.listdir(full_path)\n",
    "    img_path = [full_path + \"\\\\\" + img_name for img_name in img_names]\n",
    "    img_clas = [clas for img in img_path]\n",
    "    all_img_path.extend(img_path)\n",
    "    all_img_clas.extend(img_clas)"
   ]
  },
  {
   "cell_type": "code",
   "execution_count": 11,
   "id": "c8f21661",
   "metadata": {},
   "outputs": [
    {
     "data": {
      "text/html": [
       "<div>\n",
       "<style scoped>\n",
       "    .dataframe tbody tr th:only-of-type {\n",
       "        vertical-align: middle;\n",
       "    }\n",
       "\n",
       "    .dataframe tbody tr th {\n",
       "        vertical-align: top;\n",
       "    }\n",
       "\n",
       "    .dataframe thead th {\n",
       "        text-align: right;\n",
       "    }\n",
       "</style>\n",
       "<table border=\"1\" class=\"dataframe\">\n",
       "  <thead>\n",
       "    <tr style=\"text-align: right;\">\n",
       "      <th></th>\n",
       "      <th>imags_path</th>\n",
       "      <th>img_classes</th>\n",
       "    </tr>\n",
       "  </thead>\n",
       "  <tbody>\n",
       "    <tr>\n",
       "      <th>0</th>\n",
       "      <td>dataset\\datasets\\rashikrahmanpritom\\plant-dise...</td>\n",
       "      <td>Healthy</td>\n",
       "    </tr>\n",
       "    <tr>\n",
       "      <th>1</th>\n",
       "      <td>dataset\\datasets\\rashikrahmanpritom\\plant-dise...</td>\n",
       "      <td>Healthy</td>\n",
       "    </tr>\n",
       "    <tr>\n",
       "      <th>2</th>\n",
       "      <td>dataset\\datasets\\rashikrahmanpritom\\plant-dise...</td>\n",
       "      <td>Healthy</td>\n",
       "    </tr>\n",
       "    <tr>\n",
       "      <th>3</th>\n",
       "      <td>dataset\\datasets\\rashikrahmanpritom\\plant-dise...</td>\n",
       "      <td>Healthy</td>\n",
       "    </tr>\n",
       "    <tr>\n",
       "      <th>4</th>\n",
       "      <td>dataset\\datasets\\rashikrahmanpritom\\plant-dise...</td>\n",
       "      <td>Healthy</td>\n",
       "    </tr>\n",
       "    <tr>\n",
       "      <th>...</th>\n",
       "      <td>...</td>\n",
       "      <td>...</td>\n",
       "    </tr>\n",
       "    <tr>\n",
       "      <th>1317</th>\n",
       "      <td>dataset\\datasets\\rashikrahmanpritom\\plant-dise...</td>\n",
       "      <td>Rust</td>\n",
       "    </tr>\n",
       "    <tr>\n",
       "      <th>1318</th>\n",
       "      <td>dataset\\datasets\\rashikrahmanpritom\\plant-dise...</td>\n",
       "      <td>Rust</td>\n",
       "    </tr>\n",
       "    <tr>\n",
       "      <th>1319</th>\n",
       "      <td>dataset\\datasets\\rashikrahmanpritom\\plant-dise...</td>\n",
       "      <td>Rust</td>\n",
       "    </tr>\n",
       "    <tr>\n",
       "      <th>1320</th>\n",
       "      <td>dataset\\datasets\\rashikrahmanpritom\\plant-dise...</td>\n",
       "      <td>Rust</td>\n",
       "    </tr>\n",
       "    <tr>\n",
       "      <th>1321</th>\n",
       "      <td>dataset\\datasets\\rashikrahmanpritom\\plant-dise...</td>\n",
       "      <td>Rust</td>\n",
       "    </tr>\n",
       "  </tbody>\n",
       "</table>\n",
       "<p>1322 rows × 2 columns</p>\n",
       "</div>"
      ],
      "text/plain": [
       "                                             imags_path img_classes\n",
       "0     dataset\\datasets\\rashikrahmanpritom\\plant-dise...     Healthy\n",
       "1     dataset\\datasets\\rashikrahmanpritom\\plant-dise...     Healthy\n",
       "2     dataset\\datasets\\rashikrahmanpritom\\plant-dise...     Healthy\n",
       "3     dataset\\datasets\\rashikrahmanpritom\\plant-dise...     Healthy\n",
       "4     dataset\\datasets\\rashikrahmanpritom\\plant-dise...     Healthy\n",
       "...                                                 ...         ...\n",
       "1317  dataset\\datasets\\rashikrahmanpritom\\plant-dise...        Rust\n",
       "1318  dataset\\datasets\\rashikrahmanpritom\\plant-dise...        Rust\n",
       "1319  dataset\\datasets\\rashikrahmanpritom\\plant-dise...        Rust\n",
       "1320  dataset\\datasets\\rashikrahmanpritom\\plant-dise...        Rust\n",
       "1321  dataset\\datasets\\rashikrahmanpritom\\plant-dise...        Rust\n",
       "\n",
       "[1322 rows x 2 columns]"
      ]
     },
     "execution_count": 11,
     "metadata": {},
     "output_type": "execute_result"
    }
   ],
   "source": [
    "df = pd.DataFrame({\n",
    "    \"imags_path\" : all_img_path ,\n",
    "    \"img_classes\" : all_img_clas \n",
    "})\n",
    "df"
   ]
  },
  {
   "cell_type": "code",
   "execution_count": 16,
   "id": "25848b32",
   "metadata": {},
   "outputs": [
    {
     "data": {
      "text/plain": [
       "img_classes\n",
       "Healthy    458\n",
       "Rust       434\n",
       "Powdery    430\n",
       "Name: count, dtype: int64"
      ]
     },
     "execution_count": 16,
     "metadata": {},
     "output_type": "execute_result"
    }
   ],
   "source": [
    "df.img_classes.value_counts()"
   ]
  },
  {
   "cell_type": "code",
   "execution_count": 15,
   "id": "9386dca3",
   "metadata": {},
   "outputs": [
    {
     "data": {
      "text/plain": [
       "<Axes: xlabel='img_classes', ylabel='count'>"
      ]
     },
     "execution_count": 15,
     "metadata": {},
     "output_type": "execute_result"
    },
    {
     "data": {
      "image/png": "[encoded data removed]",
      "text/plain": [
       "<Figure size 640x480 with 1 Axes>"
      ]
     },
     "metadata": {},
     "output_type": "display_data"
    }
   ],
   "source": [
    "import seaborn as sns \n",
    "\n",
    "sns.countplot(data=df,x=\"img_classes\",order=df.img_classes.value_counts().index)"
   ]
  },
  {
   "cell_type": "code",
   "execution_count": null,
   "id": "800c6395",
   "metadata": {},
   "outputs": [],
   "source": []
  }
 ],
 "metadata": {
  "kernelspec": {
   "display_name": "Python 3",
   "language": "python",
   "name": "python3"
  },
  "language_info": {
   "codemirror_mode": {
    "name": "ipython",
    "version": 3
   },
   "file_extension": ".py",
   "mimetype": "text/x-python",
   "name": "python",
   "nbconvert_exporter": "python",
   "pygments_lexer": "ipython3",
   "version": "3.11.9"
  }
 },
 "nbformat": 4,
 "nbformat_minor": 5
}
